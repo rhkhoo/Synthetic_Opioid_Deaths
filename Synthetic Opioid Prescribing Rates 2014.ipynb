{
 "cells": [
  {
   "cell_type": "markdown",
   "metadata": {},
   "source": [
    "# Synthetic Opioid Prescribing Rates 2014"
   ]
  },
  {
   "cell_type": "markdown",
   "metadata": {},
   "source": [
    "## About the Data and Hypothesis"
   ]
  },
  {
   "cell_type": "markdown",
   "metadata": {},
   "source": [
    "The data is from 2014 for 25,000 Medicare prescribers across the United States\n",
    "The dataset can be found [here](https://www.kaggle.com/apryor6/us-opiate-prescriptions).\n",
    "\n",
    "After initial exploratory data analysis using [SQL queries](https://docs.google.com/document/d/1KjDykYBxfmbqQ_-_TimffpQlkY-Kl3PsDSO5Yc4aspk/edit?usp=sharing), there appears to be a slight correlation between the percentage of synthetic opioids prescribed and deaths as a proportion of a state's population. For example, North Dakota had the highest percentage of synthetic opioids and the lowest death rate. \n",
    "\n",
    "Because of this apparent correlation, it is important to know if the synthetic proportions are different across the country. Regions with lower prescribing proportions may want to urge their doctors to favor synthetic opioids over natural ones.\n",
    "\n",
    "This project seeks to test the following null and alternate hypotheses: <br>\n",
    "$H_0$ = $S_{(North East)}$ + $S_{(South)}$ + $S_{(Midwest)}$ + $S_{(West)}$ = $0$ <br>\n",
    "    $H_A$ = $S_{(North East)}$ + $S_{(South)}$ + $S_{(Midwest)}$ + $S_{(West)}$ $\\neq$ $0$ <br>\n",
    "    Where $S_{(region)}$ is the average synthetic opioid percentage in each region. <br><br>\n",
    "In other words, the null hypothesis is the means of the synthetic opioid percentage prescribed are not different between each region. The alternate hypothesis states that at least one region has a significantly different synthetic opioid percentage than the other regions."
   ]
  },
  {
   "cell_type": "markdown",
   "metadata": {},
   "source": [
    "## Setup"
   ]
  },
  {
   "cell_type": "code",
   "execution_count": 108,
   "metadata": {},
   "outputs": [],
   "source": [
    "import pandas as pd\n",
    "from sqlalchemy import create_engine\n",
    "import seaborn as sns\n",
    "import scipy.stats as stats\n",
    "import matplotlib.pyplot as plt\n",
    "from statsmodels.stats.multitest import multipletests\n",
    "import numpy as np"
   ]
  },
  {
   "cell_type": "code",
   "execution_count": 109,
   "metadata": {},
   "outputs": [],
   "source": [
    "opioids = pd.read_csv('opioids_clean.csv')\n",
    "op_agg = pd.read_csv('opioids_aggregated.csv')"
   ]
  },
  {
   "cell_type": "code",
   "execution_count": 110,
   "metadata": {
    "scrolled": false
   },
   "outputs": [
    {
     "data": {
      "text/html": [
       "<div>\n",
       "<style scoped>\n",
       "    .dataframe tbody tr th:only-of-type {\n",
       "        vertical-align: middle;\n",
       "    }\n",
       "\n",
       "    .dataframe tbody tr th {\n",
       "        vertical-align: top;\n",
       "    }\n",
       "\n",
       "    .dataframe thead th {\n",
       "        text-align: right;\n",
       "    }\n",
       "</style>\n",
       "<table border=\"1\" class=\"dataframe\">\n",
       "  <thead>\n",
       "    <tr style=\"text-align: right;\">\n",
       "      <th></th>\n",
       "      <th>NPI</th>\n",
       "      <th>State</th>\n",
       "      <th>total_synthetic</th>\n",
       "      <th>total_opioids</th>\n",
       "      <th>percent_synthetic</th>\n",
       "      <th>percent_deaths</th>\n",
       "    </tr>\n",
       "  </thead>\n",
       "  <tbody>\n",
       "    <tr>\n",
       "      <th>0</th>\n",
       "      <td>1003002320</td>\n",
       "      <td>MS</td>\n",
       "      <td>0</td>\n",
       "      <td>36</td>\n",
       "      <td>0.000000</td>\n",
       "      <td>0.000112</td>\n",
       "    </tr>\n",
       "    <tr>\n",
       "      <th>1</th>\n",
       "      <td>1003008475</td>\n",
       "      <td>GA</td>\n",
       "      <td>0</td>\n",
       "      <td>0</td>\n",
       "      <td>0.000000</td>\n",
       "      <td>0.000121</td>\n",
       "    </tr>\n",
       "    <tr>\n",
       "      <th>2</th>\n",
       "      <td>1003009630</td>\n",
       "      <td>NY</td>\n",
       "      <td>0</td>\n",
       "      <td>91</td>\n",
       "      <td>0.000000</td>\n",
       "      <td>0.000117</td>\n",
       "    </tr>\n",
       "    <tr>\n",
       "      <th>3</th>\n",
       "      <td>1003016270</td>\n",
       "      <td>CT</td>\n",
       "      <td>53</td>\n",
       "      <td>236</td>\n",
       "      <td>0.224576</td>\n",
       "      <td>0.000173</td>\n",
       "    </tr>\n",
       "    <tr>\n",
       "      <th>4</th>\n",
       "      <td>1003024894</td>\n",
       "      <td>OH</td>\n",
       "      <td>16</td>\n",
       "      <td>89</td>\n",
       "      <td>0.179775</td>\n",
       "      <td>0.000237</td>\n",
       "    </tr>\n",
       "  </tbody>\n",
       "</table>\n",
       "</div>"
      ],
      "text/plain": [
       "          NPI State  total_synthetic  total_opioids  percent_synthetic  \\\n",
       "0  1003002320    MS                0             36           0.000000   \n",
       "1  1003008475    GA                0              0           0.000000   \n",
       "2  1003009630    NY                0             91           0.000000   \n",
       "3  1003016270    CT               53            236           0.224576   \n",
       "4  1003024894    OH               16             89           0.179775   \n",
       "\n",
       "   percent_deaths  \n",
       "0        0.000112  \n",
       "1        0.000121  \n",
       "2        0.000117  \n",
       "3        0.000173  \n",
       "4        0.000237  "
      ]
     },
     "execution_count": 110,
     "metadata": {},
     "output_type": "execute_result"
    }
   ],
   "source": [
    "opioids.head()"
   ]
  },
  {
   "cell_type": "markdown",
   "metadata": {},
   "source": [
    "**NPI** - the National Provider Identifier, a unique number given to each medical provider in the United States.<br>\n",
    "**State** - the abbreviation of the state each provider practices in, includes only the 50 states, no territories.<br>\n",
    "**total_synthetic** - the total number of Medicare claims that involved a synthetic opioid (Fentanyl or Tramadol HCl in this dataset)<br>\n",
    "**total_opioids** - the total number of Medicare claims that involved an opioid regardless of natural or synthetic origin.<br>\n",
    "**percent_synthetic** - total_synthetic / total_opioids <br>\n",
    "**percent_deaths** - the percent of deaths caused by opioid overdose in the provider's state. This was found by dividing the number of deaths per state by the state's population from overdoses.csv. This is used instead of simply the Deaths column to account for the vastly differing populations of each state.\n",
    "i.e. California has the highest number of deaths because California has the highest population; the proportion allows for better comparisons."
   ]
  },
  {
   "cell_type": "code",
   "execution_count": 111,
   "metadata": {
    "scrolled": true
   },
   "outputs": [
    {
     "data": {
      "text/html": [
       "<div>\n",
       "<style scoped>\n",
       "    .dataframe tbody tr th:only-of-type {\n",
       "        vertical-align: middle;\n",
       "    }\n",
       "\n",
       "    .dataframe tbody tr th {\n",
       "        vertical-align: top;\n",
       "    }\n",
       "\n",
       "    .dataframe thead th {\n",
       "        text-align: right;\n",
       "    }\n",
       "</style>\n",
       "<table border=\"1\" class=\"dataframe\">\n",
       "  <thead>\n",
       "    <tr style=\"text-align: right;\">\n",
       "      <th></th>\n",
       "      <th>State</th>\n",
       "      <th>percent_synthetic</th>\n",
       "      <th>percent_deaths</th>\n",
       "      <th>total_opioids_prescribed</th>\n",
       "    </tr>\n",
       "  </thead>\n",
       "  <tbody>\n",
       "    <tr>\n",
       "      <th>0</th>\n",
       "      <td>FL</td>\n",
       "      <td>24.738616</td>\n",
       "      <td>0.013471</td>\n",
       "      <td>37645</td>\n",
       "    </tr>\n",
       "    <tr>\n",
       "      <th>1</th>\n",
       "      <td>TX</td>\n",
       "      <td>27.770840</td>\n",
       "      <td>0.009834</td>\n",
       "      <td>36249</td>\n",
       "    </tr>\n",
       "    <tr>\n",
       "      <th>2</th>\n",
       "      <td>CA</td>\n",
       "      <td>18.571208</td>\n",
       "      <td>0.011794</td>\n",
       "      <td>36056</td>\n",
       "    </tr>\n",
       "    <tr>\n",
       "      <th>3</th>\n",
       "      <td>PA</td>\n",
       "      <td>24.728483</td>\n",
       "      <td>0.021388</td>\n",
       "      <td>24818</td>\n",
       "    </tr>\n",
       "    <tr>\n",
       "      <th>4</th>\n",
       "      <td>OH</td>\n",
       "      <td>24.238647</td>\n",
       "      <td>0.023715</td>\n",
       "      <td>21975</td>\n",
       "    </tr>\n",
       "  </tbody>\n",
       "</table>\n",
       "</div>"
      ],
      "text/plain": [
       "  State  percent_synthetic  percent_deaths  total_opioids_prescribed\n",
       "0    FL          24.738616        0.013471                     37645\n",
       "1    TX          27.770840        0.009834                     36249\n",
       "2    CA          18.571208        0.011794                     36056\n",
       "3    PA          24.728483        0.021388                     24818\n",
       "4    OH          24.238647        0.023715                     21975"
      ]
     },
     "execution_count": 111,
     "metadata": {},
     "output_type": "execute_result"
    }
   ],
   "source": [
    "op_agg.head()"
   ]
  },
  {
   "cell_type": "markdown",
   "metadata": {},
   "source": [
    "**State** - the state's abbreviation <br>\n",
    "**percent_synthetic** - the percent of total opioids that are synthetic per state <br>\n",
    "**percent_deaths** - the percent of deaths due to opioid overdose per state <br>\n",
    "**total_opioids_prescribed** - the total number of Medicare claims that involved an opioid per state <br>"
   ]
  },
  {
   "cell_type": "code",
   "execution_count": 112,
   "metadata": {},
   "outputs": [],
   "source": [
    "# These are the regions defined by the US Census that will be used\n",
    "northeast = ['PA', 'NY', 'VT', 'NH', 'ME', 'MA', 'RI', 'CT', 'NJ']\n",
    "south = ['DE', 'MD', 'VA', 'WV', 'KY', 'NC', 'SC', 'TN', 'GA', 'AL', 'MS', 'AR', 'LA', 'TX', 'OK', 'FL']\n",
    "midwest = ['ND', 'SD', 'NE', 'KS', 'MN', 'IA', 'MO', 'WI', 'IL', 'MI', 'IN', 'OH']\n",
    "west = ['WA', 'OR', 'CA', 'ID', 'NV', 'AZ', 'UT', 'MT', 'WY', 'CO', 'NM', 'AK', 'HI']"
   ]
  },
  {
   "cell_type": "code",
   "execution_count": 113,
   "metadata": {},
   "outputs": [],
   "source": [
    "# Add a region column to the dataframes to help with visualizations.\n",
    "def add_region(row):\n",
    "    if row['State'] in (northeast):\n",
    "        return 'North East'\n",
    "    elif row['State'] in (south):\n",
    "        return 'South'\n",
    "    elif row['State'] in (midwest):\n",
    "        return'Midwest'\n",
    "    else:\n",
    "        return 'West'\n",
    "\n",
    "opioids['region'] = opioids.apply(add_region, axis = 1)\n",
    "op_agg['region'] = op_agg.apply(add_region, axis = 1)"
   ]
  },
  {
   "cell_type": "code",
   "execution_count": 114,
   "metadata": {},
   "outputs": [],
   "source": [
    "#Split the data into four groups based on US Census region\n",
    "ne = opioids[opioids['region'] == 'North East']\n",
    "sth = opioids[opioids['region'] == 'South']\n",
    "mw = opioids[opioids['region'] == 'Midwest']\n",
    "wst = opioids[opioids['region'] == 'West']\n",
    "\n",
    "#Sort alphabetically by region to ensure the order and color for each region is maintained across visualizations\n",
    "op_agg = op_agg.sort_values(by = ['region'], ascending = True)\n",
    "opioids = opioids.sort_values(by = ['region'], ascending = True)"
   ]
  },
  {
   "cell_type": "code",
   "execution_count": 115,
   "metadata": {},
   "outputs": [
    {
     "name": "stdout",
     "output_type": "stream",
     "text": [
      "2749 5318 3247 3192\n"
     ]
    }
   ],
   "source": [
    "#Check to see how big each group is. They need to be roughly the same size for stats.\n",
    "print(ne.shape[0],\n",
    "sth.shape[0],\n",
    "mw.shape[0],\n",
    "wst.shape[0])"
   ]
  },
  {
   "cell_type": "code",
   "execution_count": 116,
   "metadata": {
    "scrolled": true
   },
   "outputs": [
    {
     "data": {
      "image/png": "[encoded data removed]",
      "text/plain": [
       "<Figure size 432x288 with 1 Axes>"
      ]
     },
     "metadata": {
      "needs_background": "light"
     },
     "output_type": "display_data"
    }
   ],
   "source": [
    "synthetics_by_region = sns.barplot(x=\"region\", y=\"percent_synthetic\", estimator = np.median, data=op_agg)\n",
    "synthetics_by_region.set(xlabel = 'Region', ylabel = 'Percent of Synthetics', title = 'Synthetics By Region')\n",
    "plt.show()"
   ]
  },
  {
   "cell_type": "code",
   "execution_count": 117,
   "metadata": {},
   "outputs": [
    {
     "data": {
      "image/png": "[encoded data removed]",
      "text/plain": [
       "<Figure size 432x288 with 1 Axes>"
      ]
     },
     "metadata": {
      "needs_background": "light"
     },
     "output_type": "display_data"
    }
   ],
   "source": [
    "deaths_by_region = sns.barplot(x=\"region\", y=\"percent_deaths\", data=op_agg)\n",
    "deaths_by_region.set(xlabel = 'Region', ylabel = 'Percent of Opioid Overdose', title = 'Deaths by Region')\n",
    "plt.show()"
   ]
  },
  {
   "cell_type": "markdown",
   "metadata": {},
   "source": [
    "The Midwest has the highest synthetic prescribing percentage, but the lowest death percentage. Is there a correlation between the percent of synthetics prescribed and deaths?"
   ]
  },
  {
   "cell_type": "code",
   "execution_count": 118,
   "metadata": {},
   "outputs": [
    {
     "data": {
      "text/plain": [
       "(-0.3572851757614184, 0.010859902186219118)"
      ]
     },
     "execution_count": 118,
     "metadata": {},
     "output_type": "execute_result"
    }
   ],
   "source": [
    "# See how the data are correlated by region. Percent synthetic is moderately negatively correlated to percent deaths\n",
    "stats.pearsonr(op_agg['percent_synthetic'], op_agg['percent_deaths'])"
   ]
  },
  {
   "cell_type": "code",
   "execution_count": 119,
   "metadata": {},
   "outputs": [
    {
     "data": {
      "image/png": "[encoded data removed]",
      "text/plain": [
       "<Figure size 432x288 with 1 Axes>"
      ]
     },
     "metadata": {
      "needs_background": "light"
     },
     "output_type": "display_data"
    }
   ],
   "source": [
    "# Visualize the correlation between synthetics and deaths. Note how each region is grouped together, further supporting\n",
    "#the alternate hypothesis. \n",
    "scatter_by_region = sns.scatterplot('percent_synthetic', 'percent_deaths', hue = 'region', data = op_agg)\n",
    "\n",
    "scatter_by_region.set(xlabel = 'Percent Synthetic Per State', ylabel = 'Percent of Deaths Due to Overdose')\n",
    "plt.show()"
   ]
  },
  {
   "cell_type": "markdown",
   "metadata": {},
   "source": [
    "Nationwide, there appears to be a moderate negative correlation between percent of synthetics and deaths, but is the rate at which regions prescribe synthetic opioids actually different?"
   ]
  },
  {
   "cell_type": "markdown",
   "metadata": {},
   "source": [
    "To answer this, the data will be split into four regions (based on US Census regions) and analyzed using either a one-way ANOVA test if the data are normally distributed or a Kruskal-Wallis test if the data are not normally distributed. \n",
    "\n",
    "It is important to note that this assumes the percent of synthetic opioids prescribed of one state is independent of the percent of any other state."
   ]
  },
  {
   "cell_type": "markdown",
   "metadata": {},
   "source": [
    "## Check normality of data"
   ]
  },
  {
   "cell_type": "code",
   "execution_count": 150,
   "metadata": {},
   "outputs": [
    {
     "data": {
      "image/png": "[encoded data removed]",
      "text/plain": [
       "<Figure size 432x288 with 1 Axes>"
      ]
     },
     "metadata": {
      "needs_background": "light"
     },
     "output_type": "display_data"
    },
    {
     "data": {
      "text/plain": [
       "DescribeResult(nobs=3247, minmax=(0.0, 1.0), mean=0.1884765676678678, variance=0.06993903015752867, skewness=1.585144449113957, kurtosis=2.0068667807460363)"
      ]
     },
     "execution_count": 150,
     "metadata": {},
     "output_type": "execute_result"
    }
   ],
   "source": [
    "plt.hist(mw['percent_synthetic'], color = \"#3274a1\")\n",
    "plt.show()\n",
    "stats.describe(mw['percent_synthetic'])"
   ]
  },
  {
   "cell_type": "code",
   "execution_count": 145,
   "metadata": {
    "scrolled": true
   },
   "outputs": [
    {
     "data": {
      "image/png": "[encoded data removed]",
      "text/plain": [
       "<Figure size 432x288 with 1 Axes>"
      ]
     },
     "metadata": {
      "needs_background": "light"
     },
     "output_type": "display_data"
    },
    {
     "data": {
      "text/plain": [
       "DescribeResult(nobs=2749, minmax=(0.0, 1.0), mean=0.19310359102655486, variance=0.08461726789291404, skewness=1.5975605273515787, kurtosis=1.6290273389460843)"
      ]
     },
     "execution_count": 145,
     "metadata": {},
     "output_type": "execute_result"
    }
   ],
   "source": [
    "plt.hist(ne['percent_synthetic'], color = \"#e1802c\")\n",
    "plt.show()\n",
    "stats.describe(ne['percent_synthetic'])"
   ]
  },
  {
   "cell_type": "code",
   "execution_count": 146,
   "metadata": {},
   "outputs": [
    {
     "data": {
      "image/png": "[encoded data removed]",
      "text/plain": [
       "<Figure size 432x288 with 1 Axes>"
      ]
     },
     "metadata": {
      "needs_background": "light"
     },
     "output_type": "display_data"
    },
    {
     "data": {
      "text/plain": [
       "DescribeResult(nobs=5318, minmax=(0.0, 1.0), mean=0.22772362596437515, variance=0.09552952134927256, skewness=1.3615257498769793, kurtosis=0.7858132916528153)"
      ]
     },
     "execution_count": 146,
     "metadata": {},
     "output_type": "execute_result"
    }
   ],
   "source": [
    "plt.hist(sth['percent_synthetic'], color = '#3a923a')\n",
    "plt.show()\n",
    "stats.describe(sth['percent_synthetic'])"
   ]
  },
  {
   "cell_type": "code",
   "execution_count": 149,
   "metadata": {
    "scrolled": true
   },
   "outputs": [
    {
     "data": {
      "image/png": "[encoded data removed]",
      "text/plain": [
       "<Figure size 432x288 with 1 Axes>"
      ]
     },
     "metadata": {
      "needs_background": "light"
     },
     "output_type": "display_data"
    },
    {
     "data": {
      "text/plain": [
       "DescribeResult(nobs=3192, minmax=(0.0, 1.0), mean=0.13247356662881174, variance=0.052905675190742234, skewness=2.297190690335941, kurtosis=5.286746633760908)"
      ]
     },
     "execution_count": 149,
     "metadata": {},
     "output_type": "execute_result"
    }
   ],
   "source": [
    "plt.hist(wst['percent_synthetic'], color = \"#c03d3e\")\n",
    "plt.show()\n",
    "stats.describe(wst['percent_synthetic'])"
   ]
  },
  {
   "cell_type": "markdown",
   "metadata": {},
   "source": [
    "The data *is not* normal enough to use parametric tests, so a Kruskal-Wallis test will be performed."
   ]
  },
  {
   "cell_type": "markdown",
   "metadata": {},
   "source": [
    "## The statistical tests"
   ]
  },
  {
   "cell_type": "code",
   "execution_count": 124,
   "metadata": {},
   "outputs": [
    {
     "data": {
      "text/plain": [
       "KruskalResult(statistic=183.72858867296281, pvalue=1.381074470372199e-39)"
      ]
     },
     "execution_count": 124,
     "metadata": {},
     "output_type": "execute_result"
    }
   ],
   "source": [
    "stats.kruskal(ne['percent_synthetic'], sth['percent_synthetic'], mw['percent_synthetic'], \n",
    "               wst['percent_synthetic'])"
   ]
  },
  {
   "cell_type": "code",
   "execution_count": 125,
   "metadata": {},
   "outputs": [
    {
     "data": {
      "text/plain": [
       "[2.4670419208149387e-08,\n",
       " 0.07773061494226854,\n",
       " 4.976756025155124e-10,\n",
       " 5.5872960943026794e-05,\n",
       " 7.379237961022348e-41,\n",
       " 3.726779176901295e-19]"
      ]
     },
     "execution_count": 125,
     "metadata": {},
     "output_type": "execute_result"
    }
   ],
   "source": [
    "_, p1 = stats.kruskal(ne['percent_synthetic'], sth['percent_synthetic'])\n",
    "_, p2 = stats.kruskal(ne['percent_synthetic'], mw['percent_synthetic'])\n",
    "_, p3 = stats.kruskal(ne['percent_synthetic'], wst['percent_synthetic'])\n",
    "_, p4 = stats.kruskal(sth['percent_synthetic'], mw['percent_synthetic'])\n",
    "_, p5 = stats.kruskal(sth['percent_synthetic'], wst['percent_synthetic'])\n",
    "_, p6 = stats.kruskal(mw['percent_synthetic'], wst['percent_synthetic'])\n",
    "\n",
    "p_values = [p1, p2, p3, p4, p5, p6]\n",
    "p_values"
   ]
  },
  {
   "cell_type": "markdown",
   "metadata": {},
   "source": [
    "Just based on these p values, it appears there is a significant difference between most groups; however, when multiple statistical tests are done, there is an increased chance of rejecting the null when there is no actual difference."
   ]
  },
  {
   "cell_type": "code",
   "execution_count": 126,
   "metadata": {
    "scrolled": true
   },
   "outputs": [
    {
     "data": {
      "text/plain": [
       "(array([ True, False,  True,  True,  True,  True]),\n",
       " array([7.40112560e-08, 7.77306149e-02, 1.99070227e-09, 1.11742800e-04,\n",
       "        0.00000000e+00, 0.00000000e+00]),\n",
       " 0.008512444610847103,\n",
       " 0.008333333333333333)"
      ]
     },
     "execution_count": 126,
     "metadata": {},
     "output_type": "execute_result"
    }
   ],
   "source": [
    "multipletests(p_values, alpha = 0.05)"
   ]
  },
  {
   "cell_type": "markdown",
   "metadata": {},
   "source": [
    "All but one null hypotheses are rejected. Nearly each region of the United States has a significantly different prescribing rate than the others, but there is *not* a significant difference between the North East and the Midwest as seen in the point plot below:"
   ]
  },
  {
   "cell_type": "code",
   "execution_count": 128,
   "metadata": {},
   "outputs": [
    {
     "data": {
      "image/png": "[encoded data removed]",
      "text/plain": [
       "<Figure size 432x288 with 1 Axes>"
      ]
     },
     "metadata": {
      "needs_background": "light"
     },
     "output_type": "display_data"
    }
   ],
   "source": [
    "point = sns.pointplot(x = 'region', y = 'percent_synthetic', hue= 'region', data = opioids, join = False)\n",
    "point.set(xlabel = 'Region', ylabel = 'Percent of Synthetic')\n",
    "plt.show()"
   ]
  },
  {
   "cell_type": "markdown",
   "metadata": {},
   "source": [
    "## Conclusion"
   ]
  },
  {
   "cell_type": "markdown",
   "metadata": {},
   "source": [
    "In the regions with lower synthetic opioid percentages, doctors may be interested to know that raising that percentage might decrease overdose deaths. It is important to note that correlation does not mean causation. It cannot be said with certainty that prescribing a higher percentage of synthetic opioids causes fewer deaths. It is possible that the overdose death rates are also related to regional differences in illicit use of opioids, income, and support programs offered. \n",
    "\n",
    "It is also important to note that the \"Deaths\" column in the tables refers to the total number of deaths in each state due to *any* opioid overdose, not just synthetics. Breaking these deaths into subcategories based on the type of opioid that caused the death may prove insighful.\n",
    "\n",
    "Since all the prescriptions in this dataset come from Medicare, it may be interesting to see how synthetic percentages differ across insurance companies. Each company has its own formulary (a list of drugs it will cover), and regions where a certain company is dominant may have even larger differences."
   ]
  },
  {
   "cell_type": "markdown",
   "metadata": {},
   "source": [
    "Additonaly, if further data was collected, recording deaths on a per-doctor basis rather than per-state would allow for better statistics due to larger sample sizes."
   ]
  }
 ],
 "metadata": {
  "kernelspec": {
   "display_name": "Python 3",
   "language": "python",
   "name": "python3"
  },
  "language_info": {
   "codemirror_mode": {
    "name": "ipython",
    "version": 3
   },
   "file_extension": ".py",
   "mimetype": "text/x-python",
   "name": "python",
   "nbconvert_exporter": "python",
   "pygments_lexer": "ipython3",
   "version": "3.7.6"
  }
 },
 "nbformat": 4,
 "nbformat_minor": 4
}
